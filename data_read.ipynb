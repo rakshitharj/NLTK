{
  "nbformat": 4,
  "nbformat_minor": 0,
  "metadata": {
    "colab": {
      "name": "data_read.ipynb",
      "provenance": [],
      "include_colab_link": true
    },
    "kernelspec": {
      "name": "python3",
      "display_name": "Python 3"
    }
  },
  "cells": [
    {
      "cell_type": "markdown",
      "metadata": {
        "id": "view-in-github",
        "colab_type": "text"
      },
      "source": [
        "<a href=\"https://colab.research.google.com/github/rakshitharj/NLTK/blob/master/data_read.ipynb\" target=\"_parent\"><img src=\"https://colab.research.google.com/assets/colab-badge.svg\" alt=\"Open In Colab\"/></a>"
      ]
    },
    {
      "cell_type": "code",
      "metadata": {
        "id": "1PLcs5sfE5Yq",
        "colab_type": "code",
        "outputId": "3b0f0844-1c67-47bd-da4f-a8dec0f58f24",
        "colab": {
          "base_uri": "https://localhost:8080/",
          "height": 50
        }
      },
      "source": [
        "# Mount Google Drive\n",
        "from google.colab import drive # import drive from google colab\n",
        "\n",
        "ROOT = \"/content/gdrive\"     # default location for the drive\n",
        "print(ROOT)                 # print content of ROOT (Optional)\n",
        "\n",
        "drive.mount(ROOT)           # we mount the google drive at /content/drive"
      ],
      "execution_count": 73,
      "outputs": [
        {
          "output_type": "stream",
          "text": [
            "/content/gdrive\n",
            "Drive already mounted at /content/gdrive; to attempt to forcibly remount, call drive.mount(\"/content/gdrive\", force_remount=True).\n"
          ],
          "name": "stdout"
        }
      ]
    },
    {
      "cell_type": "code",
      "metadata": {
        "id": "ipoinRr4kr0I",
        "colab_type": "code",
        "colab": {}
      },
      "source": [
        "!git clone \"https://b0ab6860c4ed1a246541b36721ce04d447d9aae9@github.com/benza613/Sentiment-Analysis-using-Deep-Learning.git\""
      ],
      "execution_count": 0,
      "outputs": []
    },
    {
      "cell_type": "code",
      "metadata": {
        "id": "9h_QGz2nkfzt",
        "colab_type": "code",
        "outputId": "920714c9-a580-4a97-b328-7d9c48121fa9",
        "colab": {
          "base_uri": "https://localhost:8080/",
          "height": 101
        }
      },
      "source": [
        "!git checkout master"
      ],
      "execution_count": 74,
      "outputs": [
        {
          "output_type": "stream",
          "text": [
            "M\tnotebookrj/colab.ipynb\n",
            "M\tnotebookrj/data_read.ipynb\n",
            "Already on 'master'\n",
            "Your branch is ahead of 'origin/master' by 1 commit.\n",
            "  (use \"git push\" to publish your local commits)\n"
          ],
          "name": "stdout"
        }
      ]
    },
    {
      "cell_type": "code",
      "metadata": {
        "id": "7PfkJaT-vz70",
        "colab_type": "code",
        "colab": {}
      },
      "source": [
        "!git config --global user.email rakshitha.jayaramegowda@gmail.com"
      ],
      "execution_count": 0,
      "outputs": []
    },
    {
      "cell_type": "code",
      "metadata": {
        "id": "G4Jwkv01ybjn",
        "colab_type": "code",
        "colab": {}
      },
      "source": [
        "!git config --global user.name rakshitharj"
      ],
      "execution_count": 0,
      "outputs": []
    },
    {
      "cell_type": "code",
      "metadata": {
        "id": "lQ_-JcbhwIL-",
        "colab_type": "code",
        "colab": {}
      },
      "source": [
        "  !git config --global user.name \"benza613\""
      ],
      "execution_count": 0,
      "outputs": []
    },
    {
      "cell_type": "code",
      "metadata": {
        "id": "-vNw5vIxyjgZ",
        "colab_type": "code",
        "outputId": "9482649e-106a-4292-ea5a-f6426ed48466",
        "colab": {
          "base_uri": "https://localhost:8080/",
          "height": 50
        }
      },
      "source": [
        "!git remote -v"
      ],
      "execution_count": 76,
      "outputs": [
        {
          "output_type": "stream",
          "text": [
            "origin\thttps://b0ab6860c4ed1a246541b36721ce04d447d9aae9@github.com/benza613/Sentiment-Analysis-using-Deep-Learning.git (fetch)\n",
            "origin\thttps://b0ab6860c4ed1a246541b36721ce04d447d9aae9@github.com/benza613/Sentiment-Analysis-using-Deep-Learning.git (push)\n"
          ],
          "name": "stdout"
        }
      ]
    },
    {
      "cell_type": "code",
      "metadata": {
        "id": "AT1V8mJ-y7DV",
        "colab_type": "code",
        "outputId": "64b16a96-ada0-4f06-98b0-d117f398ea29",
        "colab": {
          "base_uri": "https://localhost:8080/",
          "height": 34
        }
      },
      "source": [
        "!git push -u origin master"
      ],
      "execution_count": 79,
      "outputs": [
        {
          "output_type": "stream",
          "text": [
            "fatal: could not read Password for 'https://b0ab6860c4ed1a246541b36721ce04d447d9aae9@github.com': No such device or address\n"
          ],
          "name": "stdout"
        }
      ]
    },
    {
      "cell_type": "code",
      "metadata": {
        "id": "kdJmzQjgkgd3",
        "colab_type": "code",
        "outputId": "58701b8a-c26c-4c73-b063-0b123e768647",
        "colab": {
          "base_uri": "https://localhost:8080/",
          "height": 34
        }
      },
      "source": [
        "%pwd"
      ],
      "execution_count": 75,
      "outputs": [
        {
          "output_type": "execute_result",
          "data": {
            "text/plain": [
              "'/content/gdrive/My Drive/snlp/Sentiment-Analysis-using-Deep-Learning'"
            ]
          },
          "metadata": {
            "tags": []
          },
          "execution_count": 75
        }
      ]
    },
    {
      "cell_type": "code",
      "metadata": {
        "id": "1S3vKev3kjdc",
        "colab_type": "code",
        "outputId": "61929a01-3023-4a01-bd1e-6e0fd56cb13c",
        "colab": {
          "base_uri": "https://localhost:8080/",
          "height": 34
        }
      },
      "source": [
        "%cd Sentiment-Analysis-using-Deep-Learning/"
      ],
      "execution_count": 0,
      "outputs": [
        {
          "output_type": "stream",
          "text": [
            "/content/gdrive/My Drive/snlp/Sentiment-Analysis-using-Deep-Learning\n"
          ],
          "name": "stdout"
        }
      ]
    },
    {
      "cell_type": "code",
      "metadata": {
        "id": "8oXBM8YbGRy1",
        "colab_type": "code",
        "colab": {}
      },
      "source": [
        "import os\n",
        "import json\n",
        "import gzip\n",
        "import pandas as pd\n",
        "from urllib.request import urlopen"
      ],
      "execution_count": 0,
      "outputs": []
    },
    {
      "cell_type": "code",
      "metadata": {
        "id": "8UUVOi3vwuTG",
        "colab_type": "code",
        "colab": {}
      },
      "source": [
        "#!wget http://deepyeti.ucsd.edu/jianmo/amazon/sample/meta_Computers.json.gz\n",
        "!wget https://drive.google.com/drive/u/0/folders/1FJjwIPF2s1nutqhmbUZtm9N7fbCf2Kdz"
      ],
      "execution_count": 0,
      "outputs": []
    },
    {
      "cell_type": "code",
      "metadata": {
        "id": "AbZZpBCqvyZZ",
        "colab_type": "code",
        "outputId": "e01f70d4-9a6c-4445-bbe9-e9c70d7ddfb2",
        "colab": {
          "base_uri": "https://localhost:8080/",
          "height": 70
        }
      },
      "source": [
        "data = []\n",
        "with gzip.open('Appliances.json.gz') as f:\n",
        "    for l in f:\n",
        "        data.append(json.loads(l.strip()))\n",
        "    \n",
        "# total length of list, this number equals total number of products\n",
        "print(len(data))\n",
        "\n",
        "# first row of the list\n",
        "print(data[1])"
      ],
      "execution_count": 0,
      "outputs": [
        {
          "output_type": "stream",
          "text": [
            "602777\n",
            "{'overall': 5.0, 'verified': False, 'reviewTime': '11 1, 2013', 'reviewerID': 'A3SK6VNBQDNBJE', 'asin': '1118461304', 'style': {'Format:': ' Kindle Edition'}, 'reviewerName': 'Leif C. Ulstrup', 'reviewText': 'I have enjoyed Dr. Alan Gregerman\\'s weekly blog ([...] and two previous books since taking an innovation class with Alan over a decade ago.  He opened my eyes to seeing the world in a fresh way and also taught me structured techniques that I can use to increase the creative problem solving skills of teams and individuals.\\n\\nAlan untangles the difference between invention and innovation and makes it much easier to see that 99%+ of innovation is adaption of proven inventions borrowed from other industries, disciplines, contexts, and cultures.\\n\\nHis previous book, Surrounded by Geniuses, is excellent.  It is a great mix of ideas and memorable examples of his insights in action.\\n\\nHis newest book, The Necessity of Strangers, builds on that previous body of knowledge and delves further into a critical dimension of his innovation research about the power of making connections outside of one\\'s group to discover alternative approaches to addressing a challenge.  The book is full of excellent examples of individuals and organizations tackling challenges by seeking ideas and insights from \"strangers\".  Alan borrows heavily from personal experience which enriches the storytelling aspect that makes his writing so accessible.\\n\\nIf you have not seen Alan teaching his ideas or present to an audience, I would highly recommend it.  He has been a featured speaker at a solution architect leadership development program at our firm.  He recently presented the ideas from The Necessity of Strangers to a large audience of executives at our firm that left people talking, engaged, and energized.\\n\\nI highly recommend his books and Alan\\'s live presentations.', 'summary': 'Becoming more innovative by opening yourself to conversations with \"strangers\"', 'unixReviewTime': 1383264000}\n"
          ],
          "name": "stdout"
        }
      ]
    },
    {
      "cell_type": "code",
      "metadata": {
        "id": "7COJ6yLEwxn_",
        "colab_type": "code",
        "outputId": "10e33992-8de8-49cd-89ac-1d5b8f545457",
        "cellView": "code",
        "colab": {
          "base_uri": "https://localhost:8080/",
          "height": 34
        }
      },
      "source": [
        "#@title Default title text\n",
        "# convert list into pandas dataframe\n",
        "df = pd.DataFrame.from_dict(data)\n",
        "\n",
        "print(len(df))"
      ],
      "execution_count": 0,
      "outputs": [
        {
          "output_type": "stream",
          "text": [
            "602777\n"
          ],
          "name": "stdout"
        }
      ]
    },
    {
      "cell_type": "code",
      "metadata": {
        "id": "sJGwYP6OolpI",
        "colab_type": "code",
        "outputId": "08d5efcc-7202-4850-ef66-b936db3f43ed",
        "colab": {
          "base_uri": "https://localhost:8080/",
          "height": 84
        }
      },
      "source": [
        "print(df.columns)"
      ],
      "execution_count": 0,
      "outputs": [
        {
          "output_type": "stream",
          "text": [
            "Index(['overall', 'vote', 'verified', 'reviewTime', 'reviewerID', 'asin',\n",
            "       'style', 'reviewerName', 'reviewText', 'summary', 'unixReviewTime',\n",
            "       'image'],\n",
            "      dtype='object')\n"
          ],
          "name": "stdout"
        }
      ]
    },
    {
      "cell_type": "code",
      "metadata": {
        "id": "xuDx1tiXpWJb",
        "colab_type": "code",
        "outputId": "96b76fda-9661-4079-8c31-45098574fd3c",
        "colab": {
          "base_uri": "https://localhost:8080/",
          "height": 252
        }
      },
      "source": [
        "clean_df=df[['reviewerID','vote','reviewText']]\n",
        "print(clean_df)"
      ],
      "execution_count": 0,
      "outputs": [
        {
          "output_type": "stream",
          "text": [
            "            reviewerID vote                                         reviewText\n",
            "0       A3NHUQ33CFH3VM    2  Not one thing in this book seemed an obvious o...\n",
            "1       A3SK6VNBQDNBJE  NaN  I have enjoyed Dr. Alan Gregerman's weekly blo...\n",
            "2       A3SOFHUR27FO3K  NaN  Alan Gregerman believes that innovation comes ...\n",
            "3       A1HOG1PYCAE157  NaN  Alan Gregerman is a smart, funny, entertaining...\n",
            "4       A26JGAM6GZMM4V   10  As I began to read this book, I was again remi...\n",
            "...                ...  ...                                                ...\n",
            "602772  A24A9P4F2SLTK5  NaN            perfect replacement for our broken one.\n",
            "602773  A2JCB4KHBWEELW  NaN              Quick delivery, did not fit my stove.\n",
            "602774  A1LDYYVTLPP2Z5  NaN                         Perfect match for my oven!\n",
            "602775   AP1M5O06IOYZ7  NaN  Doesn't work with Bosch SHX33A06UC/14 dishwash...\n",
            "602776  A1BU98NV4Y0P9K  NaN  The switch works with my dishwasher after I mo...\n",
            "\n",
            "[602777 rows x 3 columns]\n"
          ],
          "name": "stdout"
        }
      ]
    },
    {
      "cell_type": "code",
      "metadata": {
        "id": "ie_1j3sks5WP",
        "colab_type": "code",
        "colab": {}
      },
      "source": [
        "clean_df.to_csv(r'Appliances_review.csv', index = False)"
      ],
      "execution_count": 0,
      "outputs": []
    }
  ]
}